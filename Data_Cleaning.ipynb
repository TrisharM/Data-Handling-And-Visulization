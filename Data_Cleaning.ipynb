{
  "nbformat": 4,
  "nbformat_minor": 0,
  "metadata": {
    "colab": {
      "provenance": []
    },
    "kernelspec": {
      "name": "python3",
      "display_name": "Python 3"
    },
    "language_info": {
      "name": "python"
    }
  },
  "cells": [
    {
      "cell_type": "code",
      "source": [
        "from google.colab import drive\n",
        "drive.mount('/content/drive')"
      ],
      "metadata": {
        "colab": {
          "base_uri": "https://localhost:8080/"
        },
        "id": "DVDf82zVh_oC",
        "outputId": "8cbfda23-842e-4c06-edbd-6d78df34cfcf"
      },
      "execution_count": null,
      "outputs": [
        {
          "output_type": "stream",
          "name": "stdout",
          "text": [
            "Mounted at /content/drive\n"
          ]
        }
      ]
    },
    {
      "cell_type": "code",
      "execution_count": null,
      "metadata": {
        "id": "7cxuVaSwh0Qd"
      },
      "outputs": [],
      "source": [
        "import pandas as pd\n",
        "import numpy as np\n",
        "\n",
        "fd=pd.read_csv(\"/content/drive/MyDrive/data (1) (1).csv\")\n",
        "print(fd.head())"
      ]
    },
    {
      "cell_type": "code",
      "source": [
        "fd.shape\n"
      ],
      "metadata": {
        "id": "-RiIIPvFjHT1"
      },
      "execution_count": null,
      "outputs": []
    },
    {
      "cell_type": "code",
      "source": [
        "print(fd.to_markdown())"
      ],
      "metadata": {
        "id": "CdDYLRKLlBoP"
      },
      "execution_count": null,
      "outputs": []
    },
    {
      "cell_type": "code",
      "source": [
        "fd.isnull()"
      ],
      "metadata": {
        "id": "0MtO4v86lXOf"
      },
      "execution_count": null,
      "outputs": []
    },
    {
      "cell_type": "code",
      "source": [
        "fd.fillna(130,inplace=True)"
      ],
      "metadata": {
        "id": "lWMSY_rFnZFj"
      },
      "execution_count": null,
      "outputs": []
    },
    {
      "cell_type": "code",
      "source": [
        "print(fd.to_markdown())"
      ],
      "metadata": {
        "id": "hbSdwJRAowxM"
      },
      "execution_count": null,
      "outputs": []
    },
    {
      "cell_type": "code",
      "source": [
        "fd=pd.read_csv(\"/content/drive/MyDrive/data (1) (1).csv\")\n",
        "print(fd.head())"
      ],
      "metadata": {
        "colab": {
          "base_uri": "https://localhost:8080/"
        },
        "id": "kPDmEQhPpDN0",
        "outputId": "9b0dd469-705d-4d94-850d-a3719b5e947f"
      },
      "execution_count": null,
      "outputs": [
        {
          "output_type": "stream",
          "name": "stdout",
          "text": [
            "   Duration  Pulse  Maxpulse  Calories\n",
            "0        60    110       130     409.1\n",
            "1        60    117       145     479.0\n",
            "2        60    103       135     340.0\n",
            "3        45    109       175     282.4\n",
            "4        45    117       148     406.0\n"
          ]
        }
      ]
    },
    {
      "cell_type": "code",
      "source": [
        "print(fd.to_markdown())"
      ],
      "metadata": {
        "id": "WgvjAzCkpItO"
      },
      "execution_count": null,
      "outputs": []
    },
    {
      "cell_type": "code",
      "source": [
        "x=fd[\"Calories\"].mean()\n",
        "fd[\"Calories\"].fillna(x,inplace=True)"
      ],
      "metadata": {
        "id": "idtjEbH6pM4y"
      },
      "execution_count": null,
      "outputs": []
    },
    {
      "cell_type": "code",
      "source": [
        "print(fd.to_markdown())"
      ],
      "metadata": {
        "id": "TA9tStUKpqtX"
      },
      "execution_count": null,
      "outputs": []
    },
    {
      "cell_type": "code",
      "source": [
        "x=fd[\"Calories\"].median()\n",
        "fd[\"Calories\"].fillna(x,inplace=True)"
      ],
      "metadata": {
        "id": "QSQoTzlTptXc"
      },
      "execution_count": null,
      "outputs": []
    },
    {
      "cell_type": "code",
      "source": [
        "print(fd.to_markdown())"
      ],
      "metadata": {
        "id": "fj2jZ6NkqCb1"
      },
      "execution_count": null,
      "outputs": []
    },
    {
      "cell_type": "code",
      "source": [
        "x=fd[\"Calories\"].mode()[0]\n",
        "fd[\"Calories\"].fillna(x,inplace=True)"
      ],
      "metadata": {
        "id": "lqMh8K7Ep_va"
      },
      "execution_count": null,
      "outputs": []
    },
    {
      "cell_type": "code",
      "source": [
        "print(fd.to_markdown())"
      ],
      "metadata": {
        "id": "mAy-S3xaqFIy"
      },
      "execution_count": null,
      "outputs": []
    },
    {
      "cell_type": "markdown",
      "source": [],
      "metadata": {
        "id": "Ry-tsPCv0W4J"
      }
    },
    {
      "cell_type": "code",
      "source": [
        "for column in fd.columns:\n",
        "  print(column)"
      ],
      "metadata": {
        "id": "3aMHWT5utmX-"
      },
      "execution_count": null,
      "outputs": []
    },
    {
      "cell_type": "code",
      "source": [
        "fd.corr()"
      ],
      "metadata": {
        "id": "p28plvTwttwa"
      },
      "execution_count": null,
      "outputs": []
    },
    {
      "cell_type": "code",
      "source": [
        "fd.drop_duplicates(inplace=True)\n",
        "fd.shape"
      ],
      "metadata": {
        "id": "9YeVneBxutsl"
      },
      "execution_count": null,
      "outputs": []
    },
    {
      "cell_type": "code",
      "source": [
        "fd.loc[7,\"Calories\"]=45\n",
        "print(fd.to_string())"
      ],
      "metadata": {
        "id": "KA8kHeePvexG"
      },
      "execution_count": null,
      "outputs": []
    },
    {
      "cell_type": "code",
      "source": [
        "print(df.loc[0])"
      ],
      "metadata": {
        "id": "20wXzXpmxxI6"
      },
      "execution_count": null,
      "outputs": []
    }
  ]
}