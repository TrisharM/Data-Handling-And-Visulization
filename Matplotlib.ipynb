{
  "nbformat": 4,
  "nbformat_minor": 0,
  "metadata": {
    "colab": {
      "provenance": []
    },
    "kernelspec": {
      "name": "python3",
      "display_name": "Python 3"
    },
    "language_info": {
      "name": "python"
    }
  },
  "cells": [
    {
      "cell_type": "code",
      "execution_count": null,
      "metadata": {
        "id": "akA8irNMouxJ"
      },
      "outputs": [],
      "source": [
        "import matplotlib.pyplot as plt\n",
        "x=[1,2,3,4]\n",
        "y=[4,5,6,7]\n",
        "mycolors=[\"r\",\"b\",\"g\",\"black\"]\n",
        "plt.xlabel(\"x axis\",fontsize=10,color=\"b\")\n",
        "plt.ylabel(\"y axis\",fontsize=10,color=\"r\")\n",
        "plt.title(\"line graph\",fontsize=20,color=\"silver\")\n",
        "plt.bar(x,y,color=mycolors)"
      ]
    },
    {
      "cell_type": "code",
      "source": [
        "import matplotlib.pyplot as plt\n",
        "x=[1,2,3,4]\n",
        "y=[4,5,6,7]\n",
        "mycolors=[\"r\",\"b\",\"g\",\"black\"]\n",
        "sizes=[100,200,300,40,15]\n",
        "plt.xlabel(\"x axis\",fontsize=15)\n",
        "plt.ylabel(\"y axis\",fontsize=15)\n",
        "plt.title(\"Scatter Plot\",fontsize=20)\n",
        "plt.scatter(x,y,color=mycolors,marker=\"*\",alpha=0.8,)\n",
        "plt.show()"
      ],
      "metadata": {
        "id": "aYv2yMKLwsfB"
      },
      "execution_count": null,
      "outputs": []
    },
    {
      "cell_type": "code",
      "source": [
        "x=[1,2,3,4]\n",
        "y=[4,5,6,7]\n",
        "plt.plot(x,y,color=\"r\")\n",
        "plt.show()"
      ],
      "metadata": {
        "id": "i6Dz08ZFpZTw"
      },
      "execution_count": null,
      "outputs": []
    },
    {
      "cell_type": "code",
      "source": [
        "x=[1,2,3,4]\n",
        "y=[1,2,3,4]\n",
        "plt.subplot(3,2,1)\n",
        "plt.plot(x,y,color=\"b\")\n",
        "plt.subplot(3,2,2)\n",
        "col=(\"r\",\"b\",\"g\")\n",
        "plt.pie([1],colors=col)\n",
        "x=[1,2,3,4]\n",
        "y=[1,2,3,4]\n",
        "plt.subplot(3,2,3)\n",
        "plt.bar(x,y)\n",
        "x=[10,20,30,50]\n",
        "plt.subplot(3,2,4)\n",
        "plt.pie(x)\n",
        "x=[1,2,3,4]\n",
        "y=[4,5,6,7]\n",
        "plt.subplot(3,2,5)\n",
        "plt.scatter(x,y)\n",
        "plt.subplots_adjust(wspace=1)\n",
        "plt.show()"
      ],
      "metadata": {
        "id": "99YhxDNDpnO3"
      },
      "execution_count": null,
      "outputs": []
    },
    {
      "cell_type": "code",
      "source": [
        "import numpy as np\n",
        "y=np.array([35,25,25,15])\n",
        "mylabels=[\"Apples\",\"Bananas\",\"Cherries\",\"Dates\"]\n",
        "mycolors=[\"Black\",\"hotpink\",\"r\",\"#4CAF50\"]\n",
        "ex=[0.1,0,0,0]\n",
        "plt.pie(y,labels=mylabels, colors=mycolors, explode=ex,shadow=True)\n",
        "plt.show()"
      ],
      "metadata": {
        "id": "p--7vNruqRfH"
      },
      "execution_count": null,
      "outputs": []
    },
    {
      "cell_type": "code",
      "source": [],
      "metadata": {
        "id": "-QenHbn9s8L-"
      },
      "execution_count": null,
      "outputs": []
    }
  ]
}