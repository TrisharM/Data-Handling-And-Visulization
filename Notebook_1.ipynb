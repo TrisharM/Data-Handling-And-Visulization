{
  "nbformat": 4,
  "nbformat_minor": 0,
  "metadata": {
    "colab": {
      "provenance": []
    },
    "kernelspec": {
      "name": "python3",
      "display_name": "Python 3"
    },
    "language_info": {
      "name": "python"
    }
  },
  "cells": [
    {
      "cell_type": "code",
      "execution_count": null,
      "metadata": {
        "colab": {
          "base_uri": "https://localhost:8080/"
        },
        "id": "n-jEzVaIwrw0",
        "outputId": "5c464063-7629-484d-edb7-f1055d2399d3"
      },
      "outputs": [
        {
          "output_type": "stream",
          "name": "stdout",
          "text": [
            "[2 3 4 2 3 4]\n"
          ]
        }
      ],
      "source": [
        "import numpy as np\n",
        "arr=[2,3,4]\n",
        "print(np.tile(arr,2))"
      ]
    },
    {
      "cell_type": "code",
      "source": [
        "from google.colab import drive\n",
        "drive.mount('/content/drive')"
      ],
      "metadata": {
        "colab": {
          "base_uri": "https://localhost:8080/"
        },
        "id": "wRlOaP_Gw08m",
        "outputId": "2fb94ee9-207e-4d22-ae8e-88208c7bd003"
      },
      "execution_count": null,
      "outputs": [
        {
          "output_type": "stream",
          "name": "stdout",
          "text": [
            "Mounted at /content/drive\n"
          ]
        }
      ]
    },
    {
      "cell_type": "code",
      "source": [
        "import pandas as pd\n",
        "path=\"/content/drive/MyDrive/Data Set/cars.csv\"\n",
        "df=pd.read_csv(path)\n",
        "print(df.head(5))"
      ],
      "metadata": {
        "colab": {
          "base_uri": "https://localhost:8080/"
        },
        "id": "ufFSob8R2gVn",
        "outputId": "dc26f199-0107-4deb-9898-1ecf8cf3ae1d"
      },
      "execution_count": null,
      "outputs": [
        {
          "output_type": "stream",
          "name": "stdout",
          "text": [
            "          Unnamed: 0   mpg  cyl   disp   hp  drat     wt   qsec  vs  am  gear  \\\n",
            "0          Mazda RX4  21.0    6  160.0  110  3.90  2.620  16.46   0   1     4   \n",
            "1      Mazda RX4 Wag  21.0    6  160.0  110  3.90  2.875  17.02   0   1     4   \n",
            "2         Datsun 710  22.8    4  108.0   93  3.85  2.320  18.61   1   1     4   \n",
            "3     Hornet 4 Drive  21.4    6  258.0  110  3.08  3.215  19.44   1   0     3   \n",
            "4  Hornet Sportabout  18.7    8  360.0  175  3.15  3.440  17.02   0   0     3   \n",
            "\n",
            "   carb  \n",
            "0     4  \n",
            "1     4  \n",
            "2     1  \n",
            "3     1  \n",
            "4     2  \n"
          ]
        }
      ]
    },
    {
      "cell_type": "code",
      "source": [],
      "metadata": {
        "id": "Ss5aGU-04QJu"
      },
      "execution_count": null,
      "outputs": []
    }
  ]
}